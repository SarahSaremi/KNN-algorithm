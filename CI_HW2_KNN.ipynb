{
  "nbformat": 4,
  "nbformat_minor": 0,
  "metadata": {
    "colab": {
      "name": "CI-HW2-KNN",
      "provenance": [],
      "collapsed_sections": []
    },
    "kernelspec": {
      "display_name": "Python 3",
      "name": "python3"
    }
  },
  "cells": [
    {
      "cell_type": "markdown",
      "metadata": {
        "id": "dlq05eMH-crO"
      },
      "source": [
        "HW2 - KNN algorithm - Sara Saremi - 97243045"
      ]
    },
    {
      "cell_type": "code",
      "metadata": {
        "id": "tfTnekawoOzF",
        "colab": {
          "base_uri": "https://localhost:8080/",
          "height": 35
        },
        "outputId": "23281b08-a84e-45fc-adbd-7e63b89ae644"
      },
      "source": [
        "import numpy as np\n",
        "import pandas as pd\n",
        "import os\n",
        "\n",
        "os.getcwd()"
      ],
      "execution_count": null,
      "outputs": [
        {
          "output_type": "execute_result",
          "data": {
            "application/vnd.google.colaboratory.intrinsic+json": {
              "type": "string"
            },
            "text/plain": [
              "'/content'"
            ]
          },
          "metadata": {
            "tags": []
          },
          "execution_count": 10
        }
      ]
    },
    {
      "cell_type": "code",
      "metadata": {
        "id": "P9ssPf4BrFtC",
        "colab": {
          "base_uri": "https://localhost:8080/"
        },
        "outputId": "072bed14-2222-4e96-a4d9-0f964f4dc9e1"
      },
      "source": [
        "os.listdir(os.getcwd())"
      ],
      "execution_count": null,
      "outputs": [
        {
          "output_type": "execute_result",
          "data": {
            "text/plain": [
              "['.config', 'adult.test', 'adult.data', 'sample_data']"
            ]
          },
          "metadata": {
            "tags": []
          },
          "execution_count": 11
        }
      ]
    },
    {
      "cell_type": "markdown",
      "metadata": {
        "id": "ln9n7ZfG-lM8"
      },
      "source": [
        "loading data..."
      ]
    },
    {
      "cell_type": "code",
      "metadata": {
        "id": "BYgTMSwItaLY",
        "colab": {
          "base_uri": "https://localhost:8080/",
          "height": 725
        },
        "outputId": "a3bc216d-af05-45da-90a2-6364c9d3e8cb"
      },
      "source": [
        "pd.read_csv(\"adult.data\")"
      ],
      "execution_count": null,
      "outputs": [
        {
          "output_type": "execute_result",
          "data": {
            "text/html": [
              "<div>\n",
              "<style scoped>\n",
              "    .dataframe tbody tr th:only-of-type {\n",
              "        vertical-align: middle;\n",
              "    }\n",
              "\n",
              "    .dataframe tbody tr th {\n",
              "        vertical-align: top;\n",
              "    }\n",
              "\n",
              "    .dataframe thead th {\n",
              "        text-align: right;\n",
              "    }\n",
              "</style>\n",
              "<table border=\"1\" class=\"dataframe\">\n",
              "  <thead>\n",
              "    <tr style=\"text-align: right;\">\n",
              "      <th></th>\n",
              "      <th>age</th>\n",
              "      <th>workclass</th>\n",
              "      <th>fnlwgt</th>\n",
              "      <th>education</th>\n",
              "      <th>education-num</th>\n",
              "      <th>marital-status</th>\n",
              "      <th>occupation</th>\n",
              "      <th>relationship</th>\n",
              "      <th>race</th>\n",
              "      <th>sex</th>\n",
              "      <th>capital-gain</th>\n",
              "      <th>capital-loss</th>\n",
              "      <th>hours-per-week</th>\n",
              "      <th>native-country</th>\n",
              "      <th>class</th>\n",
              "    </tr>\n",
              "  </thead>\n",
              "  <tbody>\n",
              "    <tr>\n",
              "      <th>0</th>\n",
              "      <td>39</td>\n",
              "      <td>State-gov</td>\n",
              "      <td>77516</td>\n",
              "      <td>Bachelors</td>\n",
              "      <td>13</td>\n",
              "      <td>Never-married</td>\n",
              "      <td>Adm-clerical</td>\n",
              "      <td>Not-in-family</td>\n",
              "      <td>White</td>\n",
              "      <td>Male</td>\n",
              "      <td>2174</td>\n",
              "      <td>0</td>\n",
              "      <td>40</td>\n",
              "      <td>United-States</td>\n",
              "      <td>&lt;=50K</td>\n",
              "    </tr>\n",
              "    <tr>\n",
              "      <th>1</th>\n",
              "      <td>50</td>\n",
              "      <td>Self-emp-not-inc</td>\n",
              "      <td>83311</td>\n",
              "      <td>Bachelors</td>\n",
              "      <td>13</td>\n",
              "      <td>Married-civ-spouse</td>\n",
              "      <td>Exec-managerial</td>\n",
              "      <td>Husband</td>\n",
              "      <td>White</td>\n",
              "      <td>Male</td>\n",
              "      <td>0</td>\n",
              "      <td>0</td>\n",
              "      <td>13</td>\n",
              "      <td>United-States</td>\n",
              "      <td>&lt;=50K</td>\n",
              "    </tr>\n",
              "    <tr>\n",
              "      <th>2</th>\n",
              "      <td>38</td>\n",
              "      <td>Private</td>\n",
              "      <td>215646</td>\n",
              "      <td>HS-grad</td>\n",
              "      <td>9</td>\n",
              "      <td>Divorced</td>\n",
              "      <td>Handlers-cleaners</td>\n",
              "      <td>Not-in-family</td>\n",
              "      <td>White</td>\n",
              "      <td>Male</td>\n",
              "      <td>0</td>\n",
              "      <td>0</td>\n",
              "      <td>40</td>\n",
              "      <td>United-States</td>\n",
              "      <td>&lt;=50K</td>\n",
              "    </tr>\n",
              "    <tr>\n",
              "      <th>3</th>\n",
              "      <td>53</td>\n",
              "      <td>Private</td>\n",
              "      <td>234721</td>\n",
              "      <td>11th</td>\n",
              "      <td>7</td>\n",
              "      <td>Married-civ-spouse</td>\n",
              "      <td>Handlers-cleaners</td>\n",
              "      <td>Husband</td>\n",
              "      <td>Black</td>\n",
              "      <td>Male</td>\n",
              "      <td>0</td>\n",
              "      <td>0</td>\n",
              "      <td>40</td>\n",
              "      <td>United-States</td>\n",
              "      <td>&lt;=50K</td>\n",
              "    </tr>\n",
              "    <tr>\n",
              "      <th>4</th>\n",
              "      <td>28</td>\n",
              "      <td>Private</td>\n",
              "      <td>338409</td>\n",
              "      <td>Bachelors</td>\n",
              "      <td>13</td>\n",
              "      <td>Married-civ-spouse</td>\n",
              "      <td>Prof-specialty</td>\n",
              "      <td>Wife</td>\n",
              "      <td>Black</td>\n",
              "      <td>Female</td>\n",
              "      <td>0</td>\n",
              "      <td>0</td>\n",
              "      <td>40</td>\n",
              "      <td>Cuba</td>\n",
              "      <td>&lt;=50K</td>\n",
              "    </tr>\n",
              "    <tr>\n",
              "      <th>...</th>\n",
              "      <td>...</td>\n",
              "      <td>...</td>\n",
              "      <td>...</td>\n",
              "      <td>...</td>\n",
              "      <td>...</td>\n",
              "      <td>...</td>\n",
              "      <td>...</td>\n",
              "      <td>...</td>\n",
              "      <td>...</td>\n",
              "      <td>...</td>\n",
              "      <td>...</td>\n",
              "      <td>...</td>\n",
              "      <td>...</td>\n",
              "      <td>...</td>\n",
              "      <td>...</td>\n",
              "    </tr>\n",
              "    <tr>\n",
              "      <th>32556</th>\n",
              "      <td>27</td>\n",
              "      <td>Private</td>\n",
              "      <td>257302</td>\n",
              "      <td>Assoc-acdm</td>\n",
              "      <td>12</td>\n",
              "      <td>Married-civ-spouse</td>\n",
              "      <td>Tech-support</td>\n",
              "      <td>Wife</td>\n",
              "      <td>White</td>\n",
              "      <td>Female</td>\n",
              "      <td>0</td>\n",
              "      <td>0</td>\n",
              "      <td>38</td>\n",
              "      <td>United-States</td>\n",
              "      <td>&lt;=50K</td>\n",
              "    </tr>\n",
              "    <tr>\n",
              "      <th>32557</th>\n",
              "      <td>40</td>\n",
              "      <td>Private</td>\n",
              "      <td>154374</td>\n",
              "      <td>HS-grad</td>\n",
              "      <td>9</td>\n",
              "      <td>Married-civ-spouse</td>\n",
              "      <td>Machine-op-inspct</td>\n",
              "      <td>Husband</td>\n",
              "      <td>White</td>\n",
              "      <td>Male</td>\n",
              "      <td>0</td>\n",
              "      <td>0</td>\n",
              "      <td>40</td>\n",
              "      <td>United-States</td>\n",
              "      <td>&gt;50K</td>\n",
              "    </tr>\n",
              "    <tr>\n",
              "      <th>32558</th>\n",
              "      <td>58</td>\n",
              "      <td>Private</td>\n",
              "      <td>151910</td>\n",
              "      <td>HS-grad</td>\n",
              "      <td>9</td>\n",
              "      <td>Widowed</td>\n",
              "      <td>Adm-clerical</td>\n",
              "      <td>Unmarried</td>\n",
              "      <td>White</td>\n",
              "      <td>Female</td>\n",
              "      <td>0</td>\n",
              "      <td>0</td>\n",
              "      <td>40</td>\n",
              "      <td>United-States</td>\n",
              "      <td>&lt;=50K</td>\n",
              "    </tr>\n",
              "    <tr>\n",
              "      <th>32559</th>\n",
              "      <td>22</td>\n",
              "      <td>Private</td>\n",
              "      <td>201490</td>\n",
              "      <td>HS-grad</td>\n",
              "      <td>9</td>\n",
              "      <td>Never-married</td>\n",
              "      <td>Adm-clerical</td>\n",
              "      <td>Own-child</td>\n",
              "      <td>White</td>\n",
              "      <td>Male</td>\n",
              "      <td>0</td>\n",
              "      <td>0</td>\n",
              "      <td>20</td>\n",
              "      <td>United-States</td>\n",
              "      <td>&lt;=50K</td>\n",
              "    </tr>\n",
              "    <tr>\n",
              "      <th>32560</th>\n",
              "      <td>52</td>\n",
              "      <td>Self-emp-inc</td>\n",
              "      <td>287927</td>\n",
              "      <td>HS-grad</td>\n",
              "      <td>9</td>\n",
              "      <td>Married-civ-spouse</td>\n",
              "      <td>Exec-managerial</td>\n",
              "      <td>Wife</td>\n",
              "      <td>White</td>\n",
              "      <td>Female</td>\n",
              "      <td>15024</td>\n",
              "      <td>0</td>\n",
              "      <td>40</td>\n",
              "      <td>United-States</td>\n",
              "      <td>&gt;50K</td>\n",
              "    </tr>\n",
              "  </tbody>\n",
              "</table>\n",
              "<p>32561 rows × 15 columns</p>\n",
              "</div>"
            ],
            "text/plain": [
              "       age          workclass   fnlwgt  ...  hours-per-week   native-country   class\n",
              "0       39          State-gov    77516  ...              40    United-States   <=50K\n",
              "1       50   Self-emp-not-inc    83311  ...              13    United-States   <=50K\n",
              "2       38            Private   215646  ...              40    United-States   <=50K\n",
              "3       53            Private   234721  ...              40    United-States   <=50K\n",
              "4       28            Private   338409  ...              40             Cuba   <=50K\n",
              "...    ...                ...      ...  ...             ...              ...     ...\n",
              "32556   27            Private   257302  ...              38    United-States   <=50K\n",
              "32557   40            Private   154374  ...              40    United-States    >50K\n",
              "32558   58            Private   151910  ...              40    United-States   <=50K\n",
              "32559   22            Private   201490  ...              20    United-States   <=50K\n",
              "32560   52       Self-emp-inc   287927  ...              40    United-States    >50K\n",
              "\n",
              "[32561 rows x 15 columns]"
            ]
          },
          "metadata": {
            "tags": []
          },
          "execution_count": 12
        }
      ]
    },
    {
      "cell_type": "code",
      "metadata": {
        "id": "xF8KlCOgrQLv"
      },
      "source": [
        "col_list = [\"age\", \"workclass\",\t \"fnlwgt\",\n",
        "            \"education\", \"education-num\", \"marital-status\", \"occupation\", \"relationship\", \"race\", \"sex\", \"hours-per-week\", \"native-country\", \"class\"]\n",
        "data = pd.read_csv(\"adult.data\", sep=', ', engine='python', usecols=col_list)"
      ],
      "execution_count": null,
      "outputs": []
    },
    {
      "cell_type": "markdown",
      "metadata": {
        "id": "I5jglUTMa_-V"
      },
      "source": [
        "***dealing with missing data***\n",
        " \n",
        "Most subjects lack data for capital-loss and capital-gain therefore we eliminate these two columns from our data.\n",
        " \n",
        "Other missing datas are from \"workclass\", \"occupation\" and \"native-country\"."
      ]
    },
    {
      "cell_type": "code",
      "metadata": {
        "id": "6p7_LmjiaM-s"
      },
      "source": [
        "def most_frequent(List): \n",
        "  max = 0\n",
        "  res = List[0] \n",
        "  for i in List: \n",
        "      freq = List.count(i) \n",
        "      if freq > max: \n",
        "          max = freq \n",
        "          res = i \n",
        "  return res"
      ],
      "execution_count": null,
      "outputs": []
    },
    {
      "cell_type": "code",
      "metadata": {
        "id": "vp-BY2VWcuyV",
        "colab": {
          "base_uri": "https://localhost:8080/"
        },
        "outputId": "4a69a50e-3272-43ea-eae3-765e5686ad89"
      },
      "source": [
        "l1 = data['native-country'].tolist()\n",
        "frequent_country = most_frequent(l1)\n",
        "print(\"most frequent country: \",frequent_country) \n",
        "l2 = data['occupation'].tolist()\n",
        "frequent_occupation = most_frequent(l2)\n",
        "print(\"most frequent occupation: \",frequent_occupation) \n",
        "l3 = data['workclass'].tolist()\n",
        "frequent_workclass = most_frequent(l3)\n",
        "print(\"most frequent workclass: \",frequent_workclass) "
      ],
      "execution_count": null,
      "outputs": [
        {
          "output_type": "stream",
          "text": [
            "most frequent country:  United-States\n",
            "most frequent occupation:  Prof-specialty\n",
            "most frequent workclass:  Private\n"
          ],
          "name": "stdout"
        }
      ]
    },
    {
      "cell_type": "markdown",
      "metadata": {
        "id": "Q1KHKSrkemal"
      },
      "source": [
        "***One-hot encoding***\n",
        "\n",
        "For categorical values we use one-hot encoding as implemented below\n",
        "\n"
      ]
    },
    {
      "cell_type": "code",
      "metadata": {
        "id": "2Ezny1axVM6t"
      },
      "source": [
        "workclass_types = [\"Private\", \"Self-emp-not-inc\", \"Self-emp-inc\", \"Federal-gov\", \"Local-gov\", \"State-gov\", \"Without-pay\", \"Never-worked\"]\n",
        "marital_types = [\"Married-civ-spouse\", \"Divorced\", \"Never-married\", \"Separated\", \"Widowed\", \"Married-spouse-absent\", \"Married-AF-spouse\"]\n",
        "occupation_types = [\"Tech-support\", \"Craft-repair\", \"Other-service\", \"Sales\", \"Exec-managerial\", \"Prof-specialty\", \"Handlers-cleaners\", \"Machine-op-inspct\", \"Adm-clerical\", \"Farming-fishing\", \"Transport-moving\", \"Priv-house-serv\", \"Protective-serv\", \"Armed-Forces\"]\n",
        "relationship_types = [\"Wife\", \"Own-child\", \"Husband\", \"Not-in-family\", \"Other-relative\", \"Unmarried\"]\n",
        "sex_types = [\"Female\", \"Male\"]\n",
        "country_types = [\"United-States\", \"Cambodia\", \"England\", \"Puerto-Rico\", \"Canada\", \"Germany\", \"Outlying-US(Guam-USVI-etc)\", \"India\", 'Japan', \"Greece\", \"South\", \"China\", \"Cuba\", \"Iran\", \"Honduras\", \"Philippines\", \"Italy\", \"Poland\", \"Jamaica\", \"Vietnam\", \"Mexico\", \"Portugal\", \"Ireland\", \"France\", \"Dominican-Republic\", \"Laos\", \"Ecuador\", \"Taiwan\", \"Haiti\", \"Columbia\", \"Hungary\", \"Guatemala\", \"Nicaragua\", \"Scotland\", \"Thailand\", \"Yugoslavia\", \"El-Salvador\", \"Trinadad&Tobago\", \"Peru\", \"Hong\", \"Holand-Netherlands\"]\n",
        "race_types = ['White', 'Asian-Pac-Islander', 'Amer-Indian-Eskimo', 'Other', 'Black']\n",
        "education_types = [\"Bachelors\", \"Some-college\", \"11th\", \"HS-grad\", \"Prof-school\", \"Assoc-acdm\", \"Assoc-voc\", \"9th\", \"7th-8th\", \"12th\", \"Masters\", \"1st-4th\", \"10th\", \"Doctorate\", \"5th-6th\", \"Preschool\"]"
      ],
      "execution_count": null,
      "outputs": []
    },
    {
      "cell_type": "code",
      "metadata": {
        "id": "4PA0C5-UyhkJ"
      },
      "source": [
        "def one_hot_encoder(types, total, category_key):\n",
        "  mapping = {}\n",
        "  for x in range(len(types)):\n",
        "    mapping[types[x]] = x\n",
        "\n",
        "  one_hot_encode = []\n",
        "\n",
        "  for t in total:\n",
        "    if t == '?':\n",
        "      if category_key == 1: \n",
        "        t = frequent_country\n",
        "      elif category_key == 2:\n",
        "        t = frequent_occupation\n",
        "      elif category_key == 3:\n",
        "        t = frequent_workclass\n",
        "    arr = list(np.zeros(len(types), dtype = int))\n",
        "    arr[mapping[t]] = 1\n",
        "    one_hot_encode.append(arr)\n",
        "\n",
        "  return one_hot_encode"
      ],
      "execution_count": null,
      "outputs": []
    },
    {
      "cell_type": "markdown",
      "metadata": {
        "id": "Xe0oV2_hjYxL"
      },
      "source": [
        "A sample subject before one-hot encoding with missing data:"
      ]
    },
    {
      "cell_type": "code",
      "metadata": {
        "id": "PTmhEi7Ei_XM",
        "colab": {
          "base_uri": "https://localhost:8080/"
        },
        "outputId": "a955f9b2-afc1-4c53-c6a6-f4d790c04abb"
      },
      "source": [
        "sample = data.iloc[61]\n",
        "print(sample)"
      ],
      "execution_count": null,
      "outputs": [
        {
          "output_type": "stream",
          "text": [
            "age                                  32\n",
            "workclass                             ?\n",
            "fnlwgt                           293936\n",
            "education                       7th-8th\n",
            "education-num                         4\n",
            "marital-status    Married-spouse-absent\n",
            "occupation                            ?\n",
            "relationship              Not-in-family\n",
            "race                              White\n",
            "sex                                Male\n",
            "hours-per-week                       40\n",
            "native-country                        ?\n",
            "class                             <=50K\n",
            "Name: 61, dtype: object\n"
          ],
          "name": "stdout"
        }
      ]
    },
    {
      "cell_type": "code",
      "metadata": {
        "id": "VG3O8LSxfEvz"
      },
      "source": [
        "data['education'] = one_hot_encoder(education_types, data['education'], 0)\n",
        "data['workclass'] = one_hot_encoder(workclass_types, data['workclass'], 3)\n",
        "data['marital-status'] = one_hot_encoder(marital_types, data['marital-status'], 0)\n",
        "data['occupation'] = one_hot_encoder(occupation_types, data['occupation'], 2)\n",
        "data['relationship'] = one_hot_encoder(relationship_types, data['relationship'], 0)\n",
        "data['sex'] = one_hot_encoder(sex_types, data['sex'], 0)\n",
        "data['native-country'] = one_hot_encoder(country_types, data['native-country'], 1)\n",
        "data['race'] = one_hot_encoder(race_types, data['race'], 0)"
      ],
      "execution_count": null,
      "outputs": []
    },
    {
      "cell_type": "markdown",
      "metadata": {
        "id": "EalR4RTtjsvD"
      },
      "source": [
        "same sample after encoding and handling missing values:\n",
        "\n"
      ]
    },
    {
      "cell_type": "code",
      "metadata": {
        "id": "Ku3ndPYqY4-l",
        "colab": {
          "base_uri": "https://localhost:8080/"
        },
        "outputId": "59cc3f17-c877-4f5e-dba3-16ce20c6e711"
      },
      "source": [
        "sample = data.iloc[61]\n",
        "print(sample)"
      ],
      "execution_count": null,
      "outputs": [
        {
          "output_type": "stream",
          "text": [
            "age                                                              32\n",
            "workclass                                  [1, 0, 0, 0, 0, 0, 0, 0]\n",
            "fnlwgt                                                       293936\n",
            "education          [0, 0, 0, 0, 0, 0, 0, 0, 1, 0, 0, 0, 0, 0, 0, 0]\n",
            "education-num                                                     4\n",
            "marital-status                                [0, 0, 0, 0, 0, 1, 0]\n",
            "occupation               [0, 0, 0, 0, 0, 1, 0, 0, 0, 0, 0, 0, 0, 0]\n",
            "relationship                                     [0, 0, 0, 1, 0, 0]\n",
            "race                                                [1, 0, 0, 0, 0]\n",
            "sex                                                          [0, 1]\n",
            "hours-per-week                                                   40\n",
            "native-country    [1, 0, 0, 0, 0, 0, 0, 0, 0, 0, 0, 0, 0, 0, 0, ...\n",
            "class                                                         <=50K\n",
            "Name: 61, dtype: object\n"
          ],
          "name": "stdout"
        }
      ]
    },
    {
      "cell_type": "markdown",
      "metadata": {
        "id": "-WOElVjuj8H0"
      },
      "source": [
        "***Normalization***\n",
        "\n",
        "Now we should normalize numeric datas."
      ]
    },
    {
      "cell_type": "code",
      "metadata": {
        "id": "ES3O-gcIIQYW"
      },
      "source": [
        "def normalization(numeric_col):\n",
        "  min_val = min(numeric_col)\n",
        "  max_val = max(numeric_col)\n",
        "  for i in range(len(numeric_col)):\n",
        "    numeric_col[i] = (numeric_col[i]-min_val)/(max_val - min_val)\n",
        "\n",
        "  return numeric_col\n"
      ],
      "execution_count": null,
      "outputs": []
    },
    {
      "cell_type": "code",
      "metadata": {
        "id": "h-VxFmBgkL7D"
      },
      "source": [
        "data['age'] = normalization(data['age'].tolist())\n",
        "data['fnlwgt'] = normalization(data['fnlwgt'].tolist())\n",
        "data['education-num'] = normalization(data['education-num'].tolist())\n",
        "data['hours-per-week'] = normalization(data['hours-per-week'].tolist())"
      ],
      "execution_count": null,
      "outputs": []
    },
    {
      "cell_type": "markdown",
      "metadata": {
        "id": "oH3xdEUYlYKZ"
      },
      "source": [
        "Same sample data with normalized values."
      ]
    },
    {
      "cell_type": "code",
      "metadata": {
        "id": "ftuY11-llTpU",
        "colab": {
          "base_uri": "https://localhost:8080/"
        },
        "outputId": "23e7c4dd-1789-43b5-cbfd-402aa5a7b005"
      },
      "source": [
        "sample = data.iloc[61]\n",
        "print(sample)"
      ],
      "execution_count": null,
      "outputs": [
        {
          "output_type": "stream",
          "text": [
            "age                                                        0.205479\n",
            "workclass                                  [1, 0, 0, 0, 0, 0, 0, 0]\n",
            "fnlwgt                                                     0.191284\n",
            "education          [0, 0, 0, 0, 0, 0, 0, 0, 1, 0, 0, 0, 0, 0, 0, 0]\n",
            "education-num                                                   0.2\n",
            "marital-status                                [0, 0, 0, 0, 0, 1, 0]\n",
            "occupation               [0, 0, 0, 0, 0, 1, 0, 0, 0, 0, 0, 0, 0, 0]\n",
            "relationship                                     [0, 0, 0, 1, 0, 0]\n",
            "race                                                [1, 0, 0, 0, 0]\n",
            "sex                                                          [0, 1]\n",
            "hours-per-week                                             0.397959\n",
            "native-country    [1, 0, 0, 0, 0, 0, 0, 0, 0, 0, 0, 0, 0, 0, 0, ...\n",
            "class                                                         <=50K\n",
            "Name: 61, dtype: object\n"
          ],
          "name": "stdout"
        }
      ]
    },
    {
      "cell_type": "markdown",
      "metadata": {
        "id": "_3EHQpannbU1"
      },
      "source": [
        "We repeat the same process for test datas."
      ]
    },
    {
      "cell_type": "code",
      "metadata": {
        "id": "T-JbMA3Vnhib"
      },
      "source": [
        "test_data = pd.read_csv(\"adult.test\", sep=', ', engine='python', usecols=col_list)\n",
        "\n",
        "test_data['education'] = one_hot_encoder(education_types, test_data['education'], 0)\n",
        "test_data['workclass'] = one_hot_encoder(workclass_types, test_data['workclass'], 3)\n",
        "test_data['marital-status'] = one_hot_encoder(marital_types, test_data['marital-status'], 0)\n",
        "test_data['occupation'] = one_hot_encoder(occupation_types, test_data['occupation'], 2)\n",
        "test_data['relationship'] = one_hot_encoder(relationship_types, test_data['relationship'], 0)\n",
        "test_data['sex'] = one_hot_encoder(sex_types, test_data['sex'], 0)\n",
        "test_data['native-country'] = one_hot_encoder(country_types, test_data['native-country'], 1)\n",
        "test_data['race'] = one_hot_encoder(race_types, test_data['race'], 0)\n",
        "\n",
        "test_data['age'] = normalization(test_data['age'].tolist())\n",
        "test_data['fnlwgt'] = normalization(test_data['fnlwgt'].tolist())\n",
        "test_data['education-num'] = normalization(test_data['education-num'].tolist())\n",
        "test_data['hours-per-week'] = normalization(test_data['hours-per-week'].tolist())"
      ],
      "execution_count": null,
      "outputs": []
    },
    {
      "cell_type": "markdown",
      "metadata": {
        "id": "VGWXPMd8lfwF"
      },
      "source": [
        "***KNN Algorithm***\n",
        "\n",
        "Now we can start the KNN algorithm implementation."
      ]
    },
    {
      "cell_type": "markdown",
      "metadata": {
        "id": "_KywwGHMlwdc"
      },
      "source": [
        "A function for calculating one-hot variable distances. Since one-hot variables are lists we couldn't calculate them same as other features.\n"
      ]
    },
    {
      "cell_type": "code",
      "metadata": {
        "id": "AVrti7NQSY3d"
      },
      "source": [
        "def one_hot_distance(a , b):\n",
        "  if a == b:\n",
        "    return 0\n",
        "  return 2"
      ],
      "execution_count": null,
      "outputs": []
    },
    {
      "cell_type": "code",
      "metadata": {
        "id": "ATww-JNkM6l1"
      },
      "source": [
        "def euclidean_distance(i , j):\n",
        "  total_dist = 0\n",
        "  b = test_data.iloc[i]\n",
        "  a = data.iloc[j]\n",
        "  for k in range(len(a)-1):\n",
        "    if type(a[k]) == list:\n",
        "      total_dist += one_hot_distance(a[k] , b[k])\n",
        "    else:\n",
        "      total_dist += (a[k]-b[k])**2\n",
        "  return total_dist\n",
        "\n"
      ],
      "execution_count": null,
      "outputs": []
    },
    {
      "cell_type": "code",
      "metadata": {
        "id": "3njo9ROQMnws"
      },
      "source": [
        "def predict(K):\n",
        "        final_output = []\n",
        "        for i in range(len(test_data)):\n",
        "            distances = []\n",
        "            labels = []\n",
        "            for j in range(len(data)):\n",
        "                dist = euclidean_distance(i , j)\n",
        "                distances.append([dist, j])\n",
        "            distances.sort()\n",
        "            distances = distances[0:K]\n",
        "            for distances, j in distances:\n",
        "                class_value = data.iloc[j]\n",
        "                labels.append(class_value[12])\n",
        "            ans = most_frequent(labels)\n",
        "            final_output.append(ans)\n",
        "            if i % 50 == 0:\n",
        "              print(\"algorithm is working...\")\n",
        "              print(i, \" \" , ans)\n",
        "\n",
        "            \n",
        "        return final_output"
      ],
      "execution_count": null,
      "outputs": []
    },
    {
      "cell_type": "code",
      "metadata": {
        "id": "njSkQtqfMYBe"
      },
      "source": [
        "def KNN(K):\n",
        "  final_result = predict(K)\n",
        "  return final_result"
      ],
      "execution_count": null,
      "outputs": []
    },
    {
      "cell_type": "code",
      "metadata": {
        "id": "aX4Q03PfRPcT"
      },
      "source": [
        "final_result = KNN(3)"
      ],
      "execution_count": null,
      "outputs": []
    },
    {
      "cell_type": "code",
      "metadata": {
        "id": "TNVHa43HNggr"
      },
      "source": [
        "def accuracy(predict, actual):\n",
        "  TP_TN = 0\n",
        "  for i in range (len(predict)):\n",
        "    if predict[i]+\".\" == actual[i]:\n",
        "        TP_TN += 1\n",
        "\n",
        "  return (TP_TN/len(predict))"
      ],
      "execution_count": null,
      "outputs": []
    },
    {
      "cell_type": "code",
      "metadata": {
        "id": "ZNg2StkbNz2q",
        "colab": {
          "base_uri": "https://localhost:8080/"
        },
        "outputId": "41fb86af-f42d-4a5c-86d2-9af3d7539315"
      },
      "source": [
        "actual_classes = test_data['class']\n",
        "print(\"accuracy : \", accuracy(final_result,actual_classes))"
      ],
      "execution_count": null,
      "outputs": [
        {
          "output_type": "stream",
          "text": [
            "accuracy :  0.7917888563049853\n"
          ],
          "name": "stdout"
        }
      ]
    }
  ]
}